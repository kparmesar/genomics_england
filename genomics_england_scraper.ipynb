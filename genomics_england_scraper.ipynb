{
 "cells": [
  {
   "cell_type": "code",
   "execution_count": 1,
   "metadata": {
    "collapsed": true
   },
   "outputs": [],
   "source": [
    "#! python3\n",
    "## import gene panels from Genomics England website\n",
    "\n",
    "import pandas as pd\n",
    "import time\n",
    "\n",
    "from bs4 import BeautifulSoup\n",
    "from selenium import webdriver\n",
    "from selenium.webdriver.chrome.options import Options"
   ]
  },
  {
   "cell_type": "code",
   "execution_count": 2,
   "outputs": [],
   "source": [
    "## Selenium webdriver options\n",
    "options = Options()\n",
    "options.headless = True\n",
    "options.add_argument(\"--window-size=1920,1200\")\n",
    "DRIVER_PATH = '/Users/home/.wdm/drivers/chromedriver/mac64/95.0.4638.54/chromedriver'"
   ],
   "metadata": {
    "collapsed": false,
    "pycharm": {
     "name": "#%%\n"
    }
   }
  },
  {
   "cell_type": "code",
   "execution_count": 8,
   "outputs": [
    {
     "name": "stdout",
     "output_type": "stream",
     "text": [
      "Successfully scraped https://panelapp.genomicsengland.co.uk/panels/902/\n",
      "Successfully scraped https://panelapp.genomicsengland.co.uk/panels/903/\n",
      "Successfully scraped https://nhsgms-panelapp.genomicsengland.co.uk/panels/106/v2.32\n",
      "Successfully scraped https://nhsgms-panelapp.genomicsengland.co.uk/panels/292/v2.23\n",
      "Successfully scraped https://nhsgms-panelapp.genomicsengland.co.uk/panels/283/v2.2\n",
      "Successfully scraped https://nhsgms-panelapp.genomicsengland.co.uk/panels/149/v2.2\n",
      "Successfully scraped https://nhsgms-panelapp.genomicsengland.co.uk/panels/83/v2.13\n",
      "Successfully scraped https://nhsgms-panelapp.genomicsengland.co.uk/panels/99/v2.4\n",
      "Successfully scraped https://nhsgms-panelapp.genomicsengland.co.uk/panels/139/v2.2\n",
      "Successfully scraped https://panelapp.genomicsengland.co.uk/panels/234/\n",
      "Successfully scraped https://panelapp.genomicsengland.co.uk/panels/156/\n",
      "Successfully scraped https://nhsgms-panelapp.genomicsengland.co.uk/panels/725/v1.2\n",
      "Successfully scraped https://panelapp.genomicsengland.co.uk/panels/678/\n",
      "Successfully scraped https://panelapp.genomicsengland.co.uk/panels/314/\n",
      "Successfully scraped https://nhsgms-panelapp.genomicsengland.co.uk/panels/548/v1.3\n",
      "Successfully scraped https://nhsgms-panelapp.genomicsengland.co.uk/panels/502/v1.2\n"
     ]
    }
   ],
   "source": [
    "urls_to_query = [\n",
    "    \"https://panelapp.genomicsengland.co.uk/panels/902/\",\n",
    "    \"https://panelapp.genomicsengland.co.uk/panels/903/\",\n",
    "    \"https://nhsgms-panelapp.genomicsengland.co.uk/panels/106/v2.32\",\n",
    "    \"https://nhsgms-panelapp.genomicsengland.co.uk/panels/292/v2.23\",\n",
    "    \"https://nhsgms-panelapp.genomicsengland.co.uk/panels/283/v2.2\",\n",
    "    \"https://nhsgms-panelapp.genomicsengland.co.uk/panels/149/v2.2\",\n",
    "    \"https://nhsgms-panelapp.genomicsengland.co.uk/panels/83/v2.13\",\n",
    "    \"https://nhsgms-panelapp.genomicsengland.co.uk/panels/99/v2.4\",\n",
    "    \"https://nhsgms-panelapp.genomicsengland.co.uk/panels/139/v2.2\",\n",
    "    \"https://panelapp.genomicsengland.co.uk/panels/234/\",\n",
    "    \"https://panelapp.genomicsengland.co.uk/panels/156/\",\n",
    "    \"https://nhsgms-panelapp.genomicsengland.co.uk/panels/725/v1.2\",\n",
    "    \"https://panelapp.genomicsengland.co.uk/panels/678/\",\n",
    "    \"https://panelapp.genomicsengland.co.uk/panels/314/\",\n",
    "    \"https://nhsgms-panelapp.genomicsengland.co.uk/panels/548/v1.3\",\n",
    "    \"https://nhsgms-panelapp.genomicsengland.co.uk/panels/502/v1.2\",\n",
    "]\n",
    "\n",
    "genomics_england_scrape_result = pd.DataFrame()\n",
    "\n",
    "driver = webdriver.Chrome(options=options, executable_path=DRIVER_PATH)\n",
    "\n",
    "for url in urls_to_query:\n",
    "    try:\n",
    "        driver.get(url)\n",
    "        time.sleep(2)\n",
    "        html = driver.page_source\n",
    "        soup = BeautifulSoup(html, 'html.parser')\n",
    "        if \"nhsgms\" in str(url):\n",
    "            div = soup.select_one(\"#gatsby-focus-wrapper > div.w-3\\/4.mt-20.mx-auto > div > table\")\n",
    "        else:\n",
    "            div = soup.select_one(\"#entities_table\")\n",
    "        table = pd.read_html(str(div), header=0)\n",
    "        print(\"Successfully scraped\", url)\n",
    "        genomics_england_scrape_result = pd.concat([genomics_england_scrape_result, table[0]])\n",
    "    except Exception as e:\n",
    "        print(\"Unable to scrape\", url, \"because:\", e) ###, opening in browser...\")\n",
    "\n",
    "driver.quit()"
   ],
   "metadata": {
    "collapsed": false,
    "pycharm": {
     "name": "#%%\n"
    }
   }
  },
  {
   "cell_type": "code",
   "execution_count": 11,
   "outputs": [],
   "source": [
    "genomics_england_scrape_result.to_csv('ckd.csv')"
   ],
   "metadata": {
    "collapsed": false,
    "pycharm": {
     "name": "#%%\n"
    }
   }
  },
  {
   "cell_type": "code",
   "execution_count": 55,
   "outputs": [
    {
     "data": {
      "text/plain": "                    Entity                                Mode of inheritance\n0                      ACE            BIALLELIC, autosomal or pseudoautosomal\n3                    ACTG2  MONOALLELIC, autosomal or pseudoautosomal, NOT...\n6                    ACTN4  MONOALLELIC, autosomal or pseudoautosomal, NOT...\n9                      AGT            BIALLELIC, autosomal or pseudoautosomal\n12                   AGTR1            BIALLELIC, autosomal or pseudoautosomal\n...                    ...                                                ...\n988                 NOS1AP            BIALLELIC, autosomal or pseudoautosomal\n989                 PRDM15            BIALLELIC, autosomal or pseudoautosomal\n990                  RCAN1  MONOALLELIC, autosomal or pseudoautosomal, NOT...\n1627   ISCA-37405-Loss2q13            BIALLELIC, autosomal or pseudoautosomal\n1628  ISCA-37432-Loss17q12  MONOALLELIC, autosomal or pseudoautosomal, imp...\n\n[421 rows x 2 columns]",
      "text/html": "<div>\n<style scoped>\n    .dataframe tbody tr th:only-of-type {\n        vertical-align: middle;\n    }\n\n    .dataframe tbody tr th {\n        vertical-align: top;\n    }\n\n    .dataframe thead th {\n        text-align: right;\n    }\n</style>\n<table border=\"1\" class=\"dataframe\">\n  <thead>\n    <tr style=\"text-align: right;\">\n      <th></th>\n      <th>Entity</th>\n      <th>Mode of inheritance</th>\n    </tr>\n  </thead>\n  <tbody>\n    <tr>\n      <th>0</th>\n      <td>ACE</td>\n      <td>BIALLELIC, autosomal or pseudoautosomal</td>\n    </tr>\n    <tr>\n      <th>3</th>\n      <td>ACTG2</td>\n      <td>MONOALLELIC, autosomal or pseudoautosomal, NOT...</td>\n    </tr>\n    <tr>\n      <th>6</th>\n      <td>ACTN4</td>\n      <td>MONOALLELIC, autosomal or pseudoautosomal, NOT...</td>\n    </tr>\n    <tr>\n      <th>9</th>\n      <td>AGT</td>\n      <td>BIALLELIC, autosomal or pseudoautosomal</td>\n    </tr>\n    <tr>\n      <th>12</th>\n      <td>AGTR1</td>\n      <td>BIALLELIC, autosomal or pseudoautosomal</td>\n    </tr>\n    <tr>\n      <th>...</th>\n      <td>...</td>\n      <td>...</td>\n    </tr>\n    <tr>\n      <th>988</th>\n      <td>NOS1AP</td>\n      <td>BIALLELIC, autosomal or pseudoautosomal</td>\n    </tr>\n    <tr>\n      <th>989</th>\n      <td>PRDM15</td>\n      <td>BIALLELIC, autosomal or pseudoautosomal</td>\n    </tr>\n    <tr>\n      <th>990</th>\n      <td>RCAN1</td>\n      <td>MONOALLELIC, autosomal or pseudoautosomal, NOT...</td>\n    </tr>\n    <tr>\n      <th>1627</th>\n      <td>ISCA-37405-Loss2q13</td>\n      <td>BIALLELIC, autosomal or pseudoautosomal</td>\n    </tr>\n    <tr>\n      <th>1628</th>\n      <td>ISCA-37432-Loss17q12</td>\n      <td>MONOALLELIC, autosomal or pseudoautosomal, imp...</td>\n    </tr>\n  </tbody>\n</table>\n<p>421 rows × 2 columns</p>\n</div>"
     },
     "execution_count": 55,
     "metadata": {},
     "output_type": "execute_result"
    }
   ],
   "source": [
    "gene_df = pd.read_csv('ckd_filtered.csv')\n",
    "gene_df = gene_df.drop(\"Unnamed: 0\", axis=1)\n",
    "gene_df[\"Entity\"] = gene_df[\"Entity\"].str.split(\" \").str[0]\n",
    "gene_df = gene_df.drop_duplicates([\"Entity\"])\n",
    "gene_df"
   ],
   "metadata": {
    "collapsed": false,
    "pycharm": {
     "name": "#%%\n"
    }
   }
  },
  {
   "cell_type": "code",
   "execution_count": 56,
   "outputs": [
    {
     "name": "stdout",
     "output_type": "stream",
     "text": [
      "ACVRL1 not in gene list\n",
      "ADA2 not in gene list\n",
      "C1QA not in gene list\n",
      "C1QB not in gene list\n",
      "C1QC not in gene list\n",
      "C2 not in gene list\n",
      "C4A not in gene list\n",
      "CASP10 not in gene list\n",
      "CBLIF not in gene list\n",
      "CD19 not in gene list\n",
      "CD81 not in gene list\n",
      "COL4A2 not in gene list\n",
      "COPA not in gene list\n",
      "COQ8A not in gene list\n",
      "DHTKD1 not in gene list\n",
      "DNASE1L3 not in gene list\n",
      "ENG not in gene list\n",
      "ERCC6 not in gene list\n",
      "ERCC8 not in gene list\n",
      "GATA6 not in gene list\n",
      "GDF2 not in gene list\n",
      "GLB1 not in gene list\n",
      "LAMC2 not in gene list\n",
      "NARS2 not in gene list\n",
      "NUP37 not in gene list\n",
      "PDSS1 not in gene list\n",
      "PGK1 not in gene list\n",
      "PGM3 not in gene list\n",
      "PLCG2 not in gene list\n",
      "PRKCD not in gene list\n",
      "SLC17A5 not in gene list\n",
      "SOX18 not in gene list\n",
      "SYNPO2 not in gene list\n",
      "TNFRSF1A not in gene list\n",
      "TREX1 not in gene list\n",
      "WAS not in gene list\n",
      "YAP1 not in gene list\n",
      "ZAP70 not in gene list\n"
     ]
    },
    {
     "data": {
      "text/plain": "       Entity                                Mode of inheritance\n0       11p13  MONOALLELIC, autosomal or pseudoautosomal, imp...\n1       17q12  MONOALLELIC, autosomal or pseudoautosomal, imp...\n2        2q13            BIALLELIC, autosomal or pseudoautosomal\n3       ABCG2                                            Unknown\n4         ACE            BIALLELIC, autosomal or pseudoautosomal\n..        ...                                                ...\n454      ZIC3  X-LINKED: hemizygous mutation in males, bialle...\n455  ZMPSTE24                                            Not set\n456     ZMYM2  MONOALLELIC, autosomal or pseudoautosomal, imp...\n457    ZNF365  BOTH monoallelic and biallelic, autosomal or p...\n458    ZNF423  BOTH monoallelic and biallelic, autosomal or p...\n\n[459 rows x 2 columns]",
      "text/html": "<div>\n<style scoped>\n    .dataframe tbody tr th:only-of-type {\n        vertical-align: middle;\n    }\n\n    .dataframe tbody tr th {\n        vertical-align: top;\n    }\n\n    .dataframe thead th {\n        text-align: right;\n    }\n</style>\n<table border=\"1\" class=\"dataframe\">\n  <thead>\n    <tr style=\"text-align: right;\">\n      <th></th>\n      <th>Entity</th>\n      <th>Mode of inheritance</th>\n    </tr>\n  </thead>\n  <tbody>\n    <tr>\n      <th>0</th>\n      <td>11p13</td>\n      <td>MONOALLELIC, autosomal or pseudoautosomal, imp...</td>\n    </tr>\n    <tr>\n      <th>1</th>\n      <td>17q12</td>\n      <td>MONOALLELIC, autosomal or pseudoautosomal, imp...</td>\n    </tr>\n    <tr>\n      <th>2</th>\n      <td>2q13</td>\n      <td>BIALLELIC, autosomal or pseudoautosomal</td>\n    </tr>\n    <tr>\n      <th>3</th>\n      <td>ABCG2</td>\n      <td>Unknown</td>\n    </tr>\n    <tr>\n      <th>4</th>\n      <td>ACE</td>\n      <td>BIALLELIC, autosomal or pseudoautosomal</td>\n    </tr>\n    <tr>\n      <th>...</th>\n      <td>...</td>\n      <td>...</td>\n    </tr>\n    <tr>\n      <th>454</th>\n      <td>ZIC3</td>\n      <td>X-LINKED: hemizygous mutation in males, bialle...</td>\n    </tr>\n    <tr>\n      <th>455</th>\n      <td>ZMPSTE24</td>\n      <td>Not set</td>\n    </tr>\n    <tr>\n      <th>456</th>\n      <td>ZMYM2</td>\n      <td>MONOALLELIC, autosomal or pseudoautosomal, imp...</td>\n    </tr>\n    <tr>\n      <th>457</th>\n      <td>ZNF365</td>\n      <td>BOTH monoallelic and biallelic, autosomal or p...</td>\n    </tr>\n    <tr>\n      <th>458</th>\n      <td>ZNF423</td>\n      <td>BOTH monoallelic and biallelic, autosomal or p...</td>\n    </tr>\n  </tbody>\n</table>\n<p>459 rows × 2 columns</p>\n</div>"
     },
     "execution_count": 56,
     "metadata": {},
     "output_type": "execute_result"
    }
   ],
   "source": [
    "gcep_list = (\n",
    "    \"ACTN4, ACVRL1, ADA2, ADAMTS13, ALG1, ALMS1, AMN, ANKFY1, ANLN, APOA1, APOE, APOL1, ARHGAP24, ARHGDIA, B2M, C1QA, C1QB, C1QC, C2, C3, C4A, CASP10, CBLIF, CD151, CD19, CD2AP, CD81, CDK20, CFH, CFHR5, CFI, CLCN5, COL4A1, COL4A2, COL4A3, COL4A4, COL4A5, COL4A6, COPA, COQ2, COQ6, COQ7, COQ8A, COQ8B, COQ9, CRB2, CUBN, CYP11B2, DAAM2, DGKE, DHFR, DHTKD1, DKC1, DLC1, DLG3, DNASE1L3, E2F3, EMP2, ENG, ERCC6, ERCC8, FAT1, FGA, FN1, FOXC2, GAPVD1, GATA6, GDF2, GLA, GLB1, GON7, GSN, IL1RAP, INF2, ITGA3, ITGB4, ITSN1, ITSN2, KANK1, KANK2, KANK4, KIRREL1, LAGE3, LAMA5, LAMB2, LAMC2, LCAT, LMNA, LMX1B, LYZ, MAFB, MAGI2, MED28, MEFV, MTR, MTRR, MYH9, MYO1E, NARS2, NEIL1, NEU1, NLRP3, NOP10, NOS1AP, NPHP4, NPHS1, NPHS2, NUP107, NUP133, NUP160, NUP205, NUP37, NUP85, NUP93, NXF5, OCRL, OSGEP, PAX2, PDSS1, PDSS2, PGK1, PGM3, PLCE1, PLCG2, PMM2, PODXL, PRKCD, PTPRO, SCARB2, SGPL1, SLC17A5, SLC19A2, SLC19A3, SMARCAL1, SOX18, SYNPO, SYNPO2, TBC1D8B, TNFRSF1A, TNS2, TP53RK, TPRKB, TREX1, TRIM8, TRPC6, TTC21B, TTR, VIPAS39, VPS33B, WAS, WDR73, WT1, XPO5, YAP1, YRDC, ZAP70, ZMPSTE24\"\n",
    ").split(\", \")\n",
    "gene_list = gene_df[\"Entity\"].to_list()\n",
    "\n",
    "for gene in gcep_list:\n",
    "    if gene not in gene_list:\n",
    "        print(f\"{gene} not in gene list\")\n",
    "        gene_df = gene_df.append([{\"Entity\":gene, \"Mode of inheritance\":\"\"}])\n",
    "\n",
    "gene_df = gene_df.sort_values(by=\"Entity\")\n",
    "gene_df = gene_df.reset_index()\n",
    "gene_df = gene_df.drop(\"index\", axis=1)\n",
    "gene_df.to_csv('ckd_gene_list.csv')\n",
    "gene_df"
   ],
   "metadata": {
    "collapsed": false,
    "pycharm": {
     "name": "#%%\n"
    }
   }
  }
 ],
 "metadata": {
  "kernelspec": {
   "display_name": "Python 3",
   "language": "python",
   "name": "python3"
  },
  "language_info": {
   "codemirror_mode": {
    "name": "ipython",
    "version": 2
   },
   "file_extension": ".py",
   "mimetype": "text/x-python",
   "name": "python",
   "nbconvert_exporter": "python",
   "pygments_lexer": "ipython2",
   "version": "2.7.6"
  }
 },
 "nbformat": 4,
 "nbformat_minor": 0
}