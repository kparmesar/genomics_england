{
 "cells": [
  {
   "cell_type": "code",
   "execution_count": 1,
   "metadata": {
    "collapsed": true
   },
   "outputs": [],
   "source": [
    "#! python3\n",
    "## import gene panels from Genomics England website\n",
    "\n",
    "import pandas as pd\n",
    "import time\n",
    "\n",
    "from bs4 import BeautifulSoup\n",
    "from selenium import webdriver\n",
    "from selenium.webdriver.chrome.options import Options"
   ]
  },
  {
   "cell_type": "code",
   "execution_count": 2,
   "outputs": [],
   "source": [
    "## Selenium webdriver options\n",
    "options = Options()\n",
    "options.headless = True\n",
    "options.add_argument(\"--window-size=1920,1200\")\n",
    "DRIVER_PATH = '/Users/home/.wdm/drivers/chromedriver/mac64/95.0.4638.54/chromedriver'"
   ],
   "metadata": {
    "collapsed": false,
    "pycharm": {
     "name": "#%%\n"
    }
   }
  },
  {
   "cell_type": "code",
   "execution_count": null,
   "outputs": [],
   "source": [
    "urls_to_query = [\n",
    "    \"https://panelapp.genomicsengland.co.uk/panels/902/\",\n",
    "    \"https://panelapp.genomicsengland.co.uk/panels/903/\",\n",
    "]\n",
    "\n",
    "genomics_england_scrape_result = pd.DataFrame()\n",
    "\n",
    "driver = webdriver.Chrome(options=options, executable_path=DRIVER_PATH)\n",
    "\n",
    "for url in urls_to_query:\n",
    "    try:\n",
    "        driver.get(url)\n",
    "        time.sleep(2)\n",
    "        html = driver.page_source\n",
    "        soup = BeautifulSoup(html, 'html.parser')\n",
    "        if \"nhsgms\" in str(url):\n",
    "            div = soup.select_one(\"#gatsby-focus-wrapper > div.w-3\\/4.mt-20.mx-auto > div > table\")\n",
    "        else:\n",
    "            div = soup.select_one(\"#entities_table\")\n",
    "        table = pd.read_html(str(div), header=0)\n",
    "        print(\"Successfully scraped\", url)\n",
    "        genomics_england_scrape_result = pd.concat([genomics_england_scrape_result, table[0]])\n",
    "    except Exception as e:\n",
    "        print(\"Unable to scrape\", url, \"because:\", e) ###, opening in browser...\")\n",
    "\n",
    "driver.quit()"
   ],
   "metadata": {
    "collapsed": false,
    "pycharm": {
     "name": "#%%\n",
     "is_executing": true
    }
   }
  },
  {
   "cell_type": "code",
   "execution_count": null,
   "outputs": [],
   "source": [
    "genomics_england_scrape_result.to_csv('ckd.csv')"
   ],
   "metadata": {
    "collapsed": false,
    "pycharm": {
     "name": "#%%\n",
     "is_executing": true
    }
   }
  },
  {
   "cell_type": "code",
   "execution_count": null,
   "outputs": [],
   "source": [
    "gene_df = pd.read_csv('ckd_filtered.csv')\n",
    "gene_df = gene_df.drop(\"Unnamed: 0\", axis=1)\n",
    "gene_df[\"Entity\"] = gene_df[\"Entity\"].str.split(\" \").str[0]\n",
    "gene_df = gene_df.drop_duplicates([\"Entity\"])\n",
    "gene_df"
   ],
   "metadata": {
    "collapsed": false,
    "pycharm": {
     "name": "#%%\n",
     "is_executing": true
    }
   }
  },
  {
   "cell_type": "code",
   "execution_count": null,
   "outputs": [],
   "source": [
    "gcep_list = (\"\"\n",
    ").split(\", \")\n",
    "gene_list = gene_df[\"Entity\"].to_list()\n",
    "\n",
    "for gene in gcep_list:\n",
    "    if gene not in gene_list:\n",
    "        print(f\"{gene} not in gene list\")\n",
    "        gene_df = gene_df.append([{\"Entity\":gene, \"Mode of inheritance\":\"\"}])\n",
    "\n",
    "gene_df = gene_df.sort_values(by=\"Entity\")\n",
    "gene_df = gene_df.reset_index()\n",
    "gene_df = gene_df.drop(\"index\", axis=1)\n",
    "gene_df.to_csv('ckd_gene_list.csv')\n",
    "gene_df"
   ],
   "metadata": {
    "collapsed": false,
    "pycharm": {
     "name": "#%%\n",
     "is_executing": true
    }
   }
  }
 ],
 "metadata": {
  "kernelspec": {
   "display_name": "Python 3",
   "language": "python",
   "name": "python3"
  },
  "language_info": {
   "codemirror_mode": {
    "name": "ipython",
    "version": 2
   },
   "file_extension": ".py",
   "mimetype": "text/x-python",
   "name": "python",
   "nbconvert_exporter": "python",
   "pygments_lexer": "ipython2",
   "version": "2.7.6"
  }
 },
 "nbformat": 4,
 "nbformat_minor": 0
}